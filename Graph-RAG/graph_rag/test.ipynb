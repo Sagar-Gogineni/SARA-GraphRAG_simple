{
 "cells": [
  {
   "cell_type": "code",
   "execution_count": 21,
   "metadata": {},
   "outputs": [
    {
     "data": {
      "text/plain": [
       "True"
      ]
     },
     "execution_count": 21,
     "metadata": {},
     "output_type": "execute_result"
    }
   ],
   "source": [
    "import os\n",
    "import openai\n",
    "from llama_index.vector_stores.neo4jvector import Neo4jVectorStore\n",
    "from llama_index.core import VectorStoreIndex, SimpleDirectoryReader\n",
    "from dotenv import load_dotenv\n",
    "load_dotenv()\n"
   ]
  },
  {
   "cell_type": "code",
   "execution_count": 27,
   "metadata": {},
   "outputs": [
    {
     "name": "stdout",
     "output_type": "stream",
     "text": [
      "neo4j+s://e8c3c851.databases.neo4j.io\n"
     ]
    }
   ],
   "source": [
    "username = os.getenv('NEO4J_USERNAME')\n",
    "password = os.getenv('NEO4J_PASSWORD')\n",
    "url = os.getenv(\"NEO4J_URI\")\n",
    "print(url)\n",
    "embed_dim = 1536\n",
    "# username = \"neo4j\"\n",
    "# password = \"pleaseletmein\"\n",
    "# url = \"bolt://localhost:7687\"\n"
   ]
  },
  {
   "cell_type": "code",
   "execution_count": 47,
   "metadata": {},
   "outputs": [
    {
     "name": "stdout",
     "output_type": "stream",
     "text": [
      "[Document(id_='7f9b7a18-cfdd-407b-aa27-537228127686', embedding=None, metadata={'file_path': 'c:\\\\Users\\\\Sagar G R\\\\LittleBear\\\\Graph-RAG\\\\graph_rag\\\\data_store\\\\translations\\\\littlebear_translations.txt', 'file_name': 'littlebear_translations.txt', 'file_type': 'text/plain', 'file_size': 5696, 'creation_date': '2024-10-23', 'last_modified_date': '2024-10-23'}, excluded_embed_metadata_keys=['file_name', 'file_type', 'file_size', 'creation_date', 'last_modified_date', 'last_accessed_date'], excluded_llm_metadata_keys=['file_name', 'file_type', 'file_size', 'creation_date', 'last_modified_date', 'last_accessed_date'], relationships={}, text='\"full_text\":\"Hannover (energate) - A survey among business representatives recently painted an ambivalent picture of Germany as a production location. Although many companies appreciate the stable framework conditions in Germany for their production, at the same time concerns are growing about rising energy costs and increasing bureaucracy. energate spoke to co-initiator Christian Otto, Managing Director of the Association of Energy Consumers (VEA), about the results of the study. energate: Mr. Otto, you recently conducted a survey among Germany\\'s companies together with the Climate Economy Foundation, which paints a sobering picture with regard to the climate transformation. According to this, a clear majority of companies see negative effects on the German economy from the switch to climate-neutral processes. What is the problem? Otto: Companies are facing high and volatile energy costs, but also bureaucratic hurdles and political uncertainty. With our joint study, we want to send a wake-up call to politicians, who must now take action. Now it is time to solve the solvable problems and get things done. Almost 90 percent of the companies surveyed are concerned about the recent rise in production costs, which is further weakening our competitiveness in international comparison. Three quarters of those surveyed now fear job losses in the industries. Political \"action\" does not always have to be associated with spending on public budgets. We recommend that we take the issue of reducing bureaucracy seriously. The burden of bureaucracy that is hitting small and medium-sized businesses with full force is now impenetrable on many fronts. energate: Do you also see positive signals? What do you think gives us hope? Otto: More than 90 percent of the companies surveyed stated in the study that they want to invest in climate-friendly technologies or that this is already a business case for them. However, we see that the companies that actually invest in the climate-neutral transformation are encountering major economic and bureaucratic obstacles. This makes their transformation goals seem unattainable. energate: According to your survey, the biggest problem in industry and commerce is high energy costs. Where can we start to alleviate this problem? Otto: In our view, the discussion about energy costs will shape the work of the next government. We therefore recommend that our politicians work hard to ensure economically viable energy costs. We are bringing a bridging energy price into the discussion. This should benefit precisely those companies that actually invest in the transformation to climate-friendly technologies. Expand/collapse »\",\\r\\n\\r\\n\\r\\n\"full_text\": \"Hamburg (energate) - The newly named Quest One has started series production of electrolysis stacks in Hamburg-Rahlstedt. After one and a half years of construction, the gigahub with a capacity of up to 5,000 MW is ready to go. Stacks are the technological heart of PEM electrolyzers and split water into oxygen and hydrogen using renewable electricity. \\\\\"Series production is expected to reduce production time here in Rahlstedt by 75 percent. This is a real milestone for the rapid ramp-up of hydrogen and shows what is possible in our country,\" said Federal Chancellor Olaf Scholz (SPD) at the opening ceremony. Quest One - formerly H-Tec - is a subsidiary of MAN Energy Solutions, which in turn belongs to the VW Group. So far, the company has assembled the delivered stacks and electrolyzers at its headquarters in Augsburg with 350 employees. At the same time as the start of its own stack production in the Hanseatic city, the company name is also changing, as announced. 200 new jobs are being created. \"Hamburg is developing into a leading hydrogen location in Germany,\" said Hamburg\\'s First Mayor Peter Tschentscher (SPD). The CEO of Quest One, Robin von Plettenberg, is optimistic about the future utilization of production: \"The hydrogen economy will change massively in the coming years and green hydrogen will be in demand in quantities that we can hardly imagine today,\" he said. Research and development is capital-intensive The Hamburg site will not limit itself to production, but will also research new generations of stacks. A very capital-intensive task. Competitor Rolls-Royce gave up one year after taking over the electrolysis stack specialist Hoeller in 2023, leaving the field to MAN and Siemens. \"Bringing PEM electrolysis to industrialization - and the companies that are still investing there are also noticing this - is highly demanding and requires large sums of money,\" said Andreas Görtz, President Sustainable Power Solutions at Rolls-Royce Power Systems in an energate interview. /mt Expand/collapse »\",\\r\\n\\r\\n\"full_text\": \"Aachen (energate) - The two West German energy suppliers Stawag, based in Aachen, and Enwor from Herzogenrath are finally merging. On October 1, the companies will merge under the brand \\\\\"Stawag - Stadt- und Städteregionswerke Aachen AG\\\\\". Around 300 Enwor employees will be transferred to the Stawag Group, according to a statement. The aim of the merger is therefore to create \\\\\"an even stronger company that will further advance the energy and heat transition for the city and region and relieve the burden on municipalities through even more stable distributions\\\\\". The merged supplier wants to continue existing contracts, and the basic supply of electricity and gas will be merged into a new, common tariff on January 1, 2025. The two energy suppliers and the municipal shareholders initiated the merger last year. Those involved hope that the step will create synergies in the network business in particular. /rb Expand/collapse »\",', mimetype='text/plain', start_char_idx=None, end_char_idx=None, text_template='{metadata_str}\\n\\n{content}', metadata_template='{key}: {value}', metadata_seperator='\\n')]\n"
     ]
    }
   ],
   "source": [
    "\n",
    "neo4j_vector = Neo4jVectorStore(username, password, url, embed_dim)\n",
    "# load documents\n",
    "documents = SimpleDirectoryReader(input_dir='./data_store/translations').load_data()\n",
    "print(documents)"
   ]
  },
  {
   "cell_type": "code",
   "execution_count": 48,
   "metadata": {},
   "outputs": [
    {
     "name": "stderr",
     "output_type": "stream",
     "text": [
      "Received notification from DBMS server: {severity: WARNING} {code: Neo.ClientNotification.Statement.FeatureDeprecationWarning} {category: DEPRECATION} {title: This feature is deprecated and will be removed in future versions.} {description: CALL subquery without a variable scope clause is now deprecated. Use CALL (row) { ... }} {position: line: 1, column: 21, offset: 20} for query: \"UNWIND $data AS row CALL { WITH row MERGE (c:`Chunk` {id: row.id}) WITH c, row CALL db.create.setVectorProperty(c, 'embedding', row.embedding) YIELD node SET c.`text` = row.text SET c += row.metadata } IN TRANSACTIONS OF 1000 ROWS\"\n",
      "Received notification from DBMS server: {severity: WARNING} {code: Neo.ClientNotification.Statement.FeatureDeprecationWarning} {category: DEPRECATION} {title: This feature is deprecated and will be removed in future versions.} {description: The query used a deprecated procedure. ('db.create.setVectorProperty' has been replaced by 'db.create.setNodeVectorProperty')} {position: line: 1, column: 80, offset: 79} for query: \"UNWIND $data AS row CALL { WITH row MERGE (c:`Chunk` {id: row.id}) WITH c, row CALL db.create.setVectorProperty(c, 'embedding', row.embedding) YIELD node SET c.`text` = row.text SET c += row.metadata } IN TRANSACTIONS OF 1000 ROWS\"\n"
     ]
    }
   ],
   "source": [
    "from llama_index.core import StorageContext\n",
    "\n",
    "storage_context = StorageContext.from_defaults(vector_store=neo4j_vector)\n",
    "index = VectorStoreIndex.from_documents(\n",
    "    documents, storage_context=storage_context\n",
    ")"
   ]
  },
  {
   "cell_type": "code",
   "execution_count": 49,
   "metadata": {},
   "outputs": [],
   "source": [
    "from llama_index.core import SimpleDirectoryReader\n",
    "from llama_index.core import PropertyGraphIndex\n",
    "from llama_index.embeddings.openai import OpenAIEmbedding\n",
    "from llama_index.llms.openai import OpenAI\n",
    "from llama_index.core.indices.property_graph import SchemaLLMPathExtractor\n",
    "\n",
    "from llama_index.graph_stores.neo4j import Neo4jPropertyGraphStore"
   ]
  },
  {
   "cell_type": "code",
   "execution_count": 107,
   "metadata": {},
   "outputs": [
    {
     "name": "stdout",
     "output_type": "stream",
     "text": [
      "[Document(id_='3618c3a5-a099-4d8b-89f7-eb1518f71b3e', embedding=None, metadata={'file_path': 'c:\\\\Users\\\\Sagar G R\\\\LittleBear\\\\Graph-RAG\\\\graph_rag\\\\data_store\\\\translations\\\\littlebear_translations.txt', 'file_name': 'littlebear_translations.txt', 'file_type': 'text/plain', 'file_size': 17192, 'creation_date': '2024-10-23', 'last_modified_date': '2024-10-23'}, excluded_embed_metadata_keys=['file_name', 'file_type', 'file_size', 'creation_date', 'last_modified_date', 'last_accessed_date'], excluded_llm_metadata_keys=['file_name', 'file_type', 'file_size', 'creation_date', 'last_modified_date', 'last_accessed_date'], relationships={}, text='\"full_text\":\"Hannover (energate) - A survey among business representatives recently painted an ambivalent picture of Germany as a production location. Although many companies appreciate the stable framework conditions in Germany for their production, at the same time concerns are growing about rising energy costs and increasing bureaucracy. energate spoke to co-initiator Christian Otto, Managing Director of the Association of Energy Consumers (VEA), about the results of the study. energate: Mr. Otto, you recently conducted a survey among Germany\\'s companies together with the Climate Economy Foundation, which paints a sobering picture with regard to the climate transformation. According to this, a clear majority of companies see negative effects on the German economy from the switch to climate-neutral processes. What is the problem? Otto: Companies are facing high and volatile energy costs, but also bureaucratic hurdles and political uncertainty. With our joint study, we want to send a wake-up call to politicians, who must now take action. Now it is time to solve the solvable problems and get things done. Almost 90 percent of the companies surveyed are concerned about the recent rise in production costs, which is further weakening our competitiveness in international comparison. Three quarters of those surveyed now fear job losses in the industries. Political \"action\" does not always have to be associated with spending on public budgets. We recommend that we take the issue of reducing bureaucracy seriously. The burden of bureaucracy that is hitting small and medium-sized businesses with full force is now impenetrable on many fronts. energate: Do you also see positive signals? What do you think gives us hope? Otto: More than 90 percent of the companies surveyed stated in the study that they want to invest in climate-friendly technologies or that this is already a business case for them. However, we see that the companies that actually invest in the climate-neutral transformation are encountering major economic and bureaucratic obstacles. This makes their transformation goals seem unattainable. energate: According to your survey, the biggest problem in industry and commerce is high energy costs. Where can we start to alleviate this problem? Otto: In our view, the discussion about energy costs will shape the work of the next government. We therefore recommend that our politicians work hard to ensure economically viable energy costs. We are bringing a bridging energy price into the discussion. This should benefit precisely those companies that actually invest in the transformation to climate-friendly technologies. Expand/collapse »\",\\r\\n\\r\\n\\r\\n\"full_text\": \"Hamburg (energate) - The newly named Quest One has started series production of electrolysis stacks in Hamburg-Rahlstedt. After one and a half years of construction, the gigahub with a capacity of up to 5,000 MW is ready to go. Stacks are the technological heart of PEM electrolyzers and split water into oxygen and hydrogen using renewable electricity. \\\\\"Series production is expected to reduce production time here in Rahlstedt by 75 percent. This is a real milestone for the rapid ramp-up of hydrogen and shows what is possible in our country,\" said Federal Chancellor Olaf Scholz (SPD) at the opening ceremony. Quest One - formerly H-Tec - is a subsidiary of MAN Energy Solutions, which in turn belongs to the VW Group. So far, the company has assembled the delivered stacks and electrolyzers at its headquarters in Augsburg with 350 employees. At the same time as the start of its own stack production in the Hanseatic city, the company name is also changing, as announced. 200 new jobs are being created. \"Hamburg is developing into a leading hydrogen location in Germany,\" said Hamburg\\'s First Mayor Peter Tschentscher (SPD). The CEO of Quest One, Robin von Plettenberg, is optimistic about the future utilization of production: \"The hydrogen economy will change massively in the coming years and green hydrogen will be in demand in quantities that we can hardly imagine today,\" he said. Research and development is capital-intensive The Hamburg site will not limit itself to production, but will also research new generations of stacks. A very capital-intensive task. Competitor Rolls-Royce gave up one year after taking over the electrolysis stack specialist Hoeller in 2023, leaving the field to MAN and Siemens. \"Bringing PEM electrolysis to industrialization - and the companies that are still investing there are also noticing this - is highly demanding and requires large sums of money,\" said Andreas Görtz, President Sustainable Power Solutions at Rolls-Royce Power Systems in an energate interview. /mt Expand/collapse »\",\\r\\n\\r\\n\"full_text\": \"Aachen (energate) - The two West German energy suppliers Stawag, based in Aachen, and Enwor from Herzogenrath are finally merging. On October 1, the companies will merge under the brand \\\\\"Stawag - Stadt- und Städteregionswerke Aachen AG\\\\\". Around 300 Enwor employees will be transferred to the Stawag Group, according to a statement. The aim of the merger is therefore to create \\\\\"an even stronger company that will further advance the energy and heat transition for the city and region and relieve the burden on municipalities through even more stable distributions\\\\\". The merged supplier wants to continue existing contracts, and the basic supply of electricity and gas will be merged into a new, common tariff on January 1, 2025. The two energy suppliers and the municipal shareholders initiated the merger last year. Those involved hope that the step will create synergies in the network business in particular. /rb Expand/collapse »\",\\r\\n\\r\\n\"full_text\": \"Hannover (energate) - The Federal Association of Energy Consumers (VEA) regularly reports on current gas contract deals. In view of the ongoing lack of transparency regarding the price level for industrial customers, the information can provide an initial indicator of achievable prices. The respective price depends on the usage structures, but also on the negotiating position of the customer. For the contracts, the VEA states the industry, the federal state, the annual quantity, the performance and thus the duration of use, the type of delivery, an average price (excluding natural gas tax), a price level, the start of delivery and the term. The price includes both the working price and other price components such as the performance or basic price. Currently, there are only fixed price deals. The annual average price is given as the price. The fixed price information appears in the price model section. For the 38th calendar week of 2024, the VEA reported the following deal: Click here to open the table Additional information about the contract and a more precise classification in the The VEA can provide market developments based on further reference prices on request. /hl Expand/collapse »\",\\r\\n\\r\\n\"full_text\": \"Braunschweig (energate) - Nordzucker will increasingly use biomethane to produce sugar in the future. The Braunschweig-based company has entered into a cooperation with the Danish energy company Nature Energy. This provides for Nordzucker to supply the sugar beet pulp from which Nature Energy will then produce biomethane. The green gas will then in turn be used in Nordzucker\\'s two Danish plants from next year to decarbonise sugar production. The aim is to gradually reduce CO2 emissions there by up to 37,000 tonnes by 2030, the company announced. The recently concluded agreement concerns Nordzucker\\'s two Danish plants in Lolland-Falster in southeastern Denmark, which are operated by the Danish subsidiary Nordic Sugar. The prerequisite for this was a new gas pipeline that the Danish government had built there and which has been in operation since September. It enabled the switch to natural gas and biomethane and thus the phase-out of heating oil and coal by Nordzucker in Denmark. The measure is part of the German sugar producer\\'s \"GoGreen\" program, which aims to be climate-neutral by 2050. In addition to significantly reducing energy consumption, the use of renewable energies is a core element of the program. /ml Expand/collapse »\",\\r\\n\\r\\n\"full_text\": \"Laufenburg/CH (energate) - A battery storage facility with an output of 500 MW will be built on the German-Swiss border by 2028. The facility will absorb excess renewable electricity and is intended to stabilize the power grid. The client is the Flexbase Group, which wants to expand its technology center (TLZ) at the site. It is using Redux Flow technology for the battery, which it is still researching further. The Flexbase Group is working with renowned institutions in Switzerland and Germany and, according to its own statements, is setting new technical standards. These relate to the cell design and the liquid used, which is neither flammable nor explosive. The company does not provide any more precise information, for example about the manufacturer of the storage facility. When asked, it refers to a corresponding confidentiality agreement. The large-scale facility absorbs excess electricity from renewable energies, which mainly arise from PV systems in summer, and stores it until required. \"This will allow power fluctuations to be balanced out and risks such as a blackout to be minimized,\" the company said. The storage facility is primarily intended to ensure security of supply, but the company says it is clarifying exactly how it will be \"operated\" with the grid company Swissgrid, among others. Big plans at a prominent location The large storage facility is one of the components of the TLZ, which was previously a Swissgrid site. The site is located on the Swiss side of the Rhine, directly next to the Laufenburg hydroelectric power station and close to the \"Stern von Laufenburg\" switchgear. This is considered the backbone of the European electricity network. The location enables the battery storage facility to be connected directly without detours and power losses at grid level 1 and is therefore ideally suited for the storage facility, explains the Flex Group. The existing, former Swissgrid building on the site will be revitalized and will offer over 400 office workplaces. The company wants to locate research and development there. A wind tunnel for the development of aerodynamic sportswear and equipment is also planned. In addition, a data center and a PV roof system covering 8,400 square meters are being built in the TLZ. According to current calculations, the data center will have the lowest CO2 footprint in Switzerland and will supply waste heat for the district heating network in Laufenburg and the surrounding area, the Flexbase Group said on request. This will enable fossil-fuel power plants to be shut down or strategically converted into backup systems. However, according to the company, the exact nature of the electricity flows between the interconnected buildings will not be known until 2028. Investments of over a billion required According to previous media reports, over a billion francs have been planned for the construction of the TLZ. According to the founders of Flexbase, these will come from investors in Switzerland, Germany, Austria and Liechtenstein. Construction of the center is scheduled to begin in spring 2025 and will be carried out by the Erne Group. /yb Expand/collapse »\",\\r\\n\\r\\n\"full_text\": \"Düsseldorf (energate) - The energy group Statkraft has, according to its own information, initiated approval procedures for several wind farm projects in Germany with a total capacity of 143 MW. These include repowering projects with 102 MW. The Norwegian company\\'s aim is to roughly double the installed capacity in Germany from the current 600 MW through repowering in the coming years. The projects include the Bredenborn wind farms in North Rhine-Westphalia (36 MW), Bad Bentheim in Lower Saxony (21.6 MW) and Rappenhagen in Hesse (41 MW). The latter is Statkraft\\'s first greenfield development for which approval has been applied for. Statkraft also plans to make investment decisions for several projects annually from 2027. The wind project pipeline comprises over 5,000 MW, including both repowering and greenfield projects. /mh Expand/collapse »\",\\r\\n\\r\\n\"full_text\": \"Petershagen (energate) - The energy group Uniper has finally shut down the Heyden 4 hard coal-fired power plant in Petershagen near Minden. The power plant had a net output of 875 MW. Together with the North Rhine-Westphalian city of Petershagen, Uniper is working on a plan to create new jobs at the site in the future. A total of 80 employees were still employed at the site. The company made the decision to shut down the power plant back in 2020. \"The final shutdown is a logical step both for the Federal Republic of Germany\\'s exit from coal-fired power generation and as part of the transformation of the Uniper portfolio,\" said Holger Kreetz, COO of Uniper SE. The energy group is now planning to build a 50 MW battery storage facility at the Petershagen site. Construction work for the installation will start soon, energate said in response to an inquiry. /hp\",\\r\\n\\r\\n\"full_text\": \"Essen (energate) - On October 1, the hydrogen project \\\\\"HydroNet\\\\\" coordinated by the Eon subsidiary Westnetz will start in the Sauerland. The five-year project aims to convert an entire region with various players from medium-sized industrial companies to the use of hydrogen, Westnetz announced. The project partners are investing around 75 million euros in the implementation, and the Federal Ministry of Economics is providing 18 million euros in funding. The hydrogen is intended to largely replace fossil fuels in the Arnsberg region. The focus of the project, which takes the entire hydrogen value chain into account, is primarily on companies in metal production and processing, automotive supplies, paper production, mobility and wastewater treatment. The project idea was born in 2014, around a disused eleven-kilometer-long natural gas pipeline that is to form the core of the hydrogen supply. Concrete planning for the research project started in July 2021. Digital certificates and risk-free conversion In cooperation between research and industry, \\\\\"HydroNet\\\\\" wants to develop the technical, procedural and business developments necessary for the conversion. For example, methods and procedures for the digital certification of green hydrogen are to be developed. Other key research fields are the use of experimental stacks for electrolyzers and the conversion of industrial gas burners to pure hydrogen. This should be done \\\\\"almost risk-free\\\\\" for the companies. In a three-stage approach, a 3D combustion chamber simulation is carried out first and combustion tests are checked on site before the actual conversion. The \\\\\"HydroNet\\\\\" consortium consists of twelve partners led by Westnetz as consortium leader, plus nine other associated partners. Participants include: Enertrag, Tüv Nord, the technical universities of Darmstadt and Dortmund and the Gas and Heat Institute Essen. /tc Expand/collapse »\",\\r\\n\\r\\n\"full_text\": \"Munich (energate) - The badly hit agricultural and energy group Baywa is about to receive another three-digit million dollar cash injection. Management has reached an agreement with the company\\'s main banks. They have declared themselves willing to extend an existing bridging loan until the end of the year and at the same time increase it by around 500 million euros, Baywa announced. An existing standstill agreement with the financial institutions is also about to be extended until the end of the year. The signatures required for this by all negotiating partners will be provided \"in the next few days\", the Munich-based company announced. The step had become necessary because the previous bridging financing is expiring. The loan in question previously amounted to 272 million euros, so in the newly negotiated form it is around 770 million euros. If you take together the entire first rescue package put together by the banks and shareholders so far, they have probably made more than a billion euros available in the past few weeks. Write-downs drive capital requirements This additional capital requirement is not surprising. Just a few days ago, Baywa underwent a so-called impairment test, which resulted in additional write-downs of EUR 222 million. The largest part of this is therefore incurred by the energy division Baywa Re. In the next step, the Munich-based company hopes to return to longer-term corporate financing for the period up to 2027. What this might look like is part of ongoing negotiations. This also includes how the company can be saved from insolvency. A report that is only available in draft form so far recommends drastic cuts and the sale of individual business units. It is conceivable, for example, that the Swiss Baywa Re co-shareholder EIP will further increase its stake in the renewable energy project developer and direct marketer. Baywa got into this existentially threatening situation as a result of the multi-billion euro corporate restructuring of the recent past, which brought equally high liabilities onto the balance sheet. /pa Expand/Hide »\",', mimetype='text/plain', start_char_idx=None, end_char_idx=None, text_template='{metadata_str}\\n\\n{content}', metadata_template='{key}: {value}', metadata_seperator='\\n')]\n"
     ]
    }
   ],
   "source": [
    "graph_store = Neo4jPropertyGraphStore(username, password, url, )\n",
    "# load documents\n",
    "documents = SimpleDirectoryReader(input_dir='./data_store/translations').load_data()\n",
    "print(documents)"
   ]
  },
  {
   "cell_type": "code",
   "execution_count": 99,
   "metadata": {},
   "outputs": [],
   "source": [
    "from typing import Literal\n",
    "entities = Literal[\n",
    "    \"PERSON\", \n",
    "    \"ORGANISATION\", \n",
    "    \"LOCATION\", \n",
    "    \"TECHNOLOGY\", \n",
    "    \"ECONOMIC_FACTOR\", \n",
    "    \"EVENT\", \n",
    "    \"SURVEY\", \n",
    "    \"TOPIC\", \n",
    "    \"PROJECT\", \n",
    "    \"RESOURCE\", \n",
    "    \"GOAL\"\n",
    "]\n",
    "\n",
    "relations = Literal[\n",
    "    \"WORKS_FOR\", \n",
    "    \"HAS_SUBSIDIARY\", \n",
    "    \"MERGES_WITH\", \n",
    "    \"PRODUCES\", \n",
    "    \"LOCATED_IN\", \n",
    "    \"PARTICIPATES_IN\", \n",
    "    \"CONDUCTS\", \n",
    "    \"HOSTS\", \n",
    "    \"PARTICIPATED_BY\", \n",
    "    \"MENTIONS\", \n",
    "    \"USED_BY\", \n",
    "    \"AFFECTS\", \n",
    "    \"IMPACTS\", \n",
    "    \"PARTNER_OF\", \n",
    "    \"USES_TECHNOLOGY\", \n",
    "    \"SUPPLIES_RESOURCE\", \n",
    "    \"HAS_PROJECT\", \n",
    "    \"HAS_GOAL\", \n",
    "    \"INVESTS_IN\", \n",
    "    \"DECOMMISSIONED\"\n",
    "]\n",
    "\n",
    "schema = {\n",
    "    \"PERSON\": [\n",
    "        \"WORKS_FOR\",      # (Person)-[:WORKS_FOR]->(Organisation)\n",
    "        \"PARTICIPATES_IN\",# (Person)-[:PARTICIPATES_IN]->(Event)\n",
    "        \"CONDUCTS\"        # (Person)-[:CONDUCTS]->(Survey)\n",
    "    ],\n",
    "    \"ORGANISATION\": [\n",
    "        \"HAS_SUBSIDIARY\",  # (Organisation)-[:HAS_SUBSIDIARY]->(Organisation)\n",
    "        \"MERGES_WITH\",     # (Organisation)-[:MERGES_WITH]->(Organisation)\n",
    "        \"PRODUCES\",        # (Organisation)-[:PRODUCES]->(Resource/Technology)\n",
    "        \"LOCATED_IN\",      # (Organisation)-[:LOCATED_IN]->(Location)\n",
    "        \"HOSTS\",           # (Organisation)-[:HOSTS]->(Event)\n",
    "        \"USED_BY\",         # (Organisation)-[:USED_BY]->(Technology)\n",
    "        \"AFFECTS\",         # (Organisation)-[:AFFECTS]->(EconomicFactor)\n",
    "        \"IMPACTS\",         # (Organisation)-[:IMPACTS]->(EconomicFactor)\n",
    "        \"PARTNER_OF\",      # (Organisation)-[:PARTNER_OF]->(Organisation)\n",
    "        \"USES_TECHNOLOGY\", # (Organisation)-[:USES_TECHNOLOGY]->(Technology)\n",
    "        \"SUPPLIES_RESOURCE\",# (Organisation)-[:SUPPLIES_RESOURCE]->(Resource)\n",
    "        \"HAS_PROJECT\",     # (Organisation)-[:HAS_PROJECT]->(Project)\n",
    "        \"HAS_GOAL\",        # (Organisation)-[:HAS_GOAL]->(Goal)\n",
    "        \"INVESTS_IN\",      # (Organisation)-[:INVESTS_IN]->(Project)\n",
    "        \"DECOMMISSIONED\"   # (Organisation)-[:DECOMMISSIONED]->(Facility)\n",
    "    ],\n",
    "    \"LOCATION\": [\n",
    "        \"LOCATED_IN\"       # (Entity)-[:LOCATED_IN]->(Location) (e.g., Organisation, Project)\n",
    "    ],\n",
    "    \"TECHNOLOGY\": [\n",
    "        \"USED_BY\",         # (Technology)-[:USED_BY]->(Organisation)\n",
    "        \"PRODUCES\",        # (Technology)-[:PRODUCES]->(Resource)\n",
    "        \"USES_TECHNOLOGY\"  # (Technology)-[:USES_TECHNOLOGY]->(Organisation/Project)\n",
    "    ],\n",
    "    \"ECONOMIC_FACTOR\": [\n",
    "        \"AFFECTS\",         # (EconomicFactor)-[:AFFECTS]->(Entity)\n",
    "        \"IMPACTS\"          # (EconomicFactor)-[:IMPACTS]->(Entity)\n",
    "    ],\n",
    "    \"EVENT\": [\n",
    "        \"PARTICIPATES_IN\", # (Entity)-[:PARTICIPATES_IN]->(Event)\n",
    "        \"HOSTS\",           # (Event)-[:HOSTS]->(Organisation)\n",
    "        \"PARTICIPATED_BY\"  # (Event)-[:PARTICIPATED_BY]->(Person)\n",
    "    ],\n",
    "    \"SURVEY\": [\n",
    "        \"MENTIONS\",        # (Survey)-[:MENTIONS]->(Topic)\n",
    "        \"CONDUCTED_BY\"     # (Survey)-[:CONDUCTED_BY]->(Person/Organisation)\n",
    "    ],\n",
    "    \"TOPIC\": [\n",
    "        \"MENTIONS\"         # (Entity)-[:MENTIONS]->(Topic)\n",
    "    ],\n",
    "    \"PROJECT\": [\n",
    "        \"LOCATED_IN\",      # (Project)-[:LOCATED_IN]->(Location)\n",
    "        \"USES_TECHNOLOGY\", # (Project)-[:USES_TECHNOLOGY]->(Technology)\n",
    "        \"HAS_GOAL\",        # (Project)-[:HAS_GOAL]->(Goal)\n",
    "        \"INVESTS_IN\"       # (Organisation)-[:INVESTS_IN]->(Project)\n",
    "    ],\n",
    "    \"RESOURCE\": [\n",
    "        \"SUPPLIES_RESOURCE\",# (Resource)-[:SUPPLIES_RESOURCE]->(Organisation)\n",
    "        \"PRODUCES_RESOURCE\" # (Resource)-[:PRODUCES_RESOURCE]->(Organisation)\n",
    "    ],\n",
    "    \"GOAL\": [\n",
    "        \"HAS_GOAL\"         # (Entity)-[:HAS_GOAL]->(Goal)\n",
    "    ]\n",
    "}\n"
   ]
  },
  {
   "cell_type": "code",
   "execution_count": 103,
   "metadata": {},
   "outputs": [],
   "source": [
    "\n",
    "# recommended uppercase, underscore separated\n",
    "# entities = Literal[\"PERSON\",\"ORGANISATIONS\",\"LOCATIONS\",\"TECHNOLOGIES\",\"ECONOMIC_FACTORS\",\"EVENTS\"]\n",
    "# relations = Literal[\"PART_OF\", \"HAS\", \"IS_A\",]\n",
    "# schema = {\n",
    "#     \"PERSON\": [\"PART_OF\", \"HAS\", \"IS_A\"],\n",
    "#     \"PLACE\": [\"PART_OF\", \"HAS\"],\n",
    "#     \"THING\": [\"IS_A\"],\n",
    "# }\n",
    "\n",
    "schema_kg_extractor = SchemaLLMPathExtractor(\n",
    "    llm=OpenAI(model=\"gpt-4o-mini\"),\n",
    "    possible_entities=entities,\n",
    "    possible_relations=relations,\n",
    "    kg_validation_schema=schema,\n",
    "    strict=False,  # if false, will allow triplets outside of the schema\n",
    "    num_workers=4,\n",
    "    max_triplets_per_chunk=10,\n",
    ")"
   ]
  },
  {
   "cell_type": "code",
   "execution_count": 104,
   "metadata": {},
   "outputs": [
    {
     "name": "stderr",
     "output_type": "stream",
     "text": [
      "Parsing nodes: 100%|██████████| 1/1 [00:00<00:00, 249.85it/s]\n",
      "Extracting paths from text with schema: 100%|██████████| 2/2 [00:12<00:00,  6.04s/it]\n",
      "Generating embeddings: 100%|██████████| 1/1 [00:00<00:00,  1.22it/s]\n",
      "Generating embeddings: 100%|██████████| 1/1 [00:00<00:00,  2.08it/s]\n"
     ]
    }
   ],
   "source": [
    "import nest_asyncio \n",
    "nest_asyncio.apply()\n",
    "# Extract graph from documents\n",
    "index = PropertyGraphIndex.from_documents(\n",
    "    documents,\n",
    "    embed_model=OpenAIEmbedding(model_name=\"text-embedding-3-small\"),\n",
    "    kg_extractors=[\n",
    "       schema_kg_extractor\n",
    "    ],\n",
    "    property_graph_store=graph_store,\n",
    "    show_progress=True,\n",
    ")"
   ]
  },
  {
   "cell_type": "code",
   "execution_count": 108,
   "metadata": {},
   "outputs": [
    {
     "name": "stdout",
     "output_type": "stream",
     "text": [
      "Here are some facts extracted from the provided text:\n",
      "\n",
      "Christian Otto -> PARTICIPATES_IN -> survey among Germany's companies\n",
      "Climate Economy Foundation -> PARTNER_OF -> Christian Otto\n",
      "Christian Otto -> PARTICIPATES_IN -> Association of Energy Consumers (VEA)\n",
      "MAN Energy Solutions -> HAS_SUBSIDIARY -> VW Group\n",
      "MAN Energy Solutions -> HAS_SUBSIDIARY -> Quest One\n",
      "\n",
      "\"full_text\":\"Hannover (energate) - A survey among business representatives recently painted an ambivalent picture of Germany as a production location. Although many companies appreciate the stable framework conditions in Germany for their production, at the same time concerns are growing about rising energy costs and increasing bureaucracy. energate spoke to co-initiator Christian Otto, Managing Director of the Association of Energy Consumers (VEA), about the results of the study. energate: Mr. Otto, you recently conducted a survey among Germany's companies together with the Climate Economy Foundation, which paints a sobering picture with regard to the climate transformation. According to this, a clear majority of companies see negative effects on the German economy from the switch to climate-neutral processes. What is the problem? Otto: Companies are facing high and volatile energy costs, but also bureaucratic hurdles and political uncertainty. With our joint study, we want to send a wake-up call to politicians, who must now take action. Now it is time to solve the solvable problems and get things done. Almost 90 percent of the companies surveyed are concerned about the recent rise in production costs, which is further weakening our competitiveness in international comparison. Three quarters of those surveyed now fear job losses in the industries. Political \"action\" does not always have to be associated with spending on public budgets. We recommend that we take the issue of reducing bureaucracy seriously. The burden of bureaucracy that is hitting small and medium-sized businesses with full force is now impenetrable on many fronts. energate: Do you also see positive signals? What do you think gives us hope? Otto: More than 90 percent of the companies surveyed stated in the study that they want to invest in climate-friendly technologies or that this is already a business case for them. However, we see that the companies that actually invest in the climate-neutral transformation are encountering major economic and bureaucratic obstacles. This makes their transformation goals seem unattainable. energate: According to your survey, the biggest problem in industry and commerce is high energy costs. Where can we start to alleviate this problem? Otto: In our view, the discussion about energy costs will shape the work of the next government. We therefore recommend that our politicians work hard to ensure economically viable energy costs. We are bringing a bridging energy price into the discussion. This should benefit precisely those companies that actually invest in the transformation to climate-friendly technologies. Expand/collapse »\",\n",
      "\n",
      "\n",
      "\"full_text\": \"Hamburg (energate) - The newly named Quest One has started series production of electrolysis stacks in Hamburg-Rahlstedt. After one and a half years of construction, the gigahub with a capacity of up to 5,000 MW is ready to go. Stacks are the technological heart of PEM electrolyzers and split water into oxygen and hydrogen using renewable electricity. \\\"Series production is expected to reduce production time here in Rahlstedt by 75 percent. This is a real milestone for the rapid ramp-up of hydrogen and shows what is possible in our country,\" said Federal Chancellor Olaf Scholz (SPD) at the opening ceremony. Quest One - formerly H-Tec - is a subsidiary of MAN Energy Solutions, which in turn belongs to the VW Group. So far, the company has assembled the delivered stacks and electrolyzers at its headquarters in Augsburg with 350 employees. At the same time as the start of its own stack production in the Hanseatic city, the company name is also changing, as announced. 200 new jobs are being created. \"Hamburg is developing into a leading hydrogen location in Germany,\" said Hamburg's First Mayor Peter Tschentscher (SPD). The CEO of Quest One, Robin von Plettenberg, is optimistic about the future utilization of production: \"The hydrogen economy will change massively in the coming years and green hydrogen will be in demand in quantities that we can hardly imagine today,\" he said. Research and development is capital-intensive The Hamburg site will not limit itself to production, but will also research new generations of stacks. A very capital-intensive task. Competitor Rolls-Royce gave up one year after taking over the electrolysis stack specialist Hoeller in 2023, leaving the field to MAN and Siemens. \"Bringing PEM electrolysis to industrialization - and the companies that are still investing there are also noticing this - is highly demanding and requires large sums of money,\" said Andreas Görtz, President Sustainable Power Solutions at Rolls-Royce Power Systems in an energate interview.\n"
     ]
    }
   ],
   "source": [
    "# Define retriever\n",
    "retriever = index.as_retriever(\n",
    "    include_text=True,  # include source text in returned nodes, default True\n",
    ")\n",
    "results = retriever.retrieve(\"what are some of the concerns discussed\")\n",
    "for record in results:\n",
    "    print(record.text)"
   ]
  },
  {
   "cell_type": "code",
   "execution_count": 71,
   "metadata": {},
   "outputs": [
    {
     "name": "stdout",
     "output_type": "stream",
     "text": [
      "Companies are facing high and volatile energy costs, bureaucratic hurdles, and political uncertainty. The survey conducted among Germany's companies highlighted concerns about the recent rise in production costs, weakening competitiveness, and potential job losses in industries. Otto emphasized the need for politicians to address solvable problems, reduce bureaucracy, and ensure economically viable energy costs to support companies investing in climate-friendly technologies.\n"
     ]
    }
   ],
   "source": [
    "query_engine = index.as_query_engine(include_text=True,similarity_top_k=10)\n",
    "response = query_engine.query(\"what were the main comments by Otto\")\n",
    "print(str(response))"
   ]
  },
  {
   "cell_type": "code",
   "execution_count": 112,
   "metadata": {},
   "outputs": [
    {
     "name": "stdout",
     "output_type": "stream",
     "text": [
      "Olaf Scholz is the Federal Chancellor who attended the opening ceremony of Quest One's series production of electrolysis stacks in Hamburg-Rahlstedt [2]. Andreas Görtz is the President Sustainable Power Solutions at Rolls-Royce Power Systems [1]. There is no information provided in the sources about whether Olaf Scholz and Andreas Görtz have met before or where they might have met.\n",
      "Source 1:\n",
      "Here are some facts extracted from the provided text:\n",
      "\n",
      "Andreas Görtz -> WORKS_FOR -> Rolls-Royce Power Systems\n",
      "Quest One -> WORKS_FOR -> Robin von Plettenberg\n",
      "Robin von Plettenberg -> WORKS_FOR -> Quest One\n",
      "Stawag - Stadt- und Städteregionswerke Aachen AG -> HAS_GOAL -> advance the energy and heat transition\n",
      "Rolls-Royce -> MERGES_WITH -> Hoeller\n",
      "Rolls-Royce -> DECOMMISSIONED -> Hoeller\n",
      "Quest One -> PRODUCES -> Hamburg-Rahlstedt\n",
      "Aachen -> LOCATED_IN -> Stawag\n",
      "\n",
      "The CEO of Quest One, Robin von Plettenberg, is optimistic about the future utilization of production: \"The hydrogen economy will change massively in the coming years and green hydrogen will be in demand in quantities that we can hardly imagine today,\" he said. Research and development is capital-intensive The Hamburg site will not limit itself to production, but will also research new generations of stacks. A very capital-intensive task. Competitor Rolls-Royce gave up one year after taking over the electrolysis stack specialist Hoeller in 2023, leaving the field to MAN and Siemens. \"Bringing PEM electrolysis to industrialization - and the companies that are still investing there are also noticing this - is highly demanding and requires large sums of money,\" said Andreas Görtz, President Sustainable Power Solutions at Rolls-Royce Power Systems in an energate interview. /mt Expand/collapse »\",\n",
      "\n",
      "\"full_text\": \"Aachen (energate) - The two West German energy suppliers Stawag, based in Aachen, and Enwor from Herzogenrath are finally merging. On October 1, the companies will merge under the brand \\\"Stawag - Stadt- und Städteregionswerke Aachen AG\\\". Around 300 Enwor employees will be transferred to the Stawag Group, according to a statement. The aim of the merger is therefore to create \\\"an even stronger company that will further advance the energy and heat transition for the city and region and relieve the burden on municipalities through even more stable distributions\\\". The merged supplier wants to continue existing contracts, and the basic supply of electricity and gas will be merged into a new, common tariff on January 1, 2025. The two energy suppliers and the municipal shareholders initiated the merger last year. Those involved hope that the step will create synergies in the network business in particular. /rb Expand/collapse »\",\n",
      "\n"
     ]
    }
   ],
   "source": [
    "from llama_index.core.query_engine import CitationQueryEngine\n",
    "\n",
    "query_engine = CitationQueryEngine.from_args(\n",
    "    index,\n",
    "    # increase the citation chunk size!\n",
    "    citation_chunk_size=1024,\n",
    "    similarity_top_k=10,\n",
    ")\n",
    "response = query_engine.query(\"who is olaf and andreas. have they met before? if yes where did they meet?\")\n",
    "print(str(response))\n",
    "\n",
    "print(response.source_nodes[0].node.get_text())"
   ]
  }
 ],
 "metadata": {
  "kernelspec": {
   "display_name": "env_job_assistant",
   "language": "python",
   "name": "python3"
  },
  "language_info": {
   "codemirror_mode": {
    "name": "ipython",
    "version": 3
   },
   "file_extension": ".py",
   "mimetype": "text/x-python",
   "name": "python",
   "nbconvert_exporter": "python",
   "pygments_lexer": "ipython3",
   "version": "3.10.15"
  }
 },
 "nbformat": 4,
 "nbformat_minor": 2
}
